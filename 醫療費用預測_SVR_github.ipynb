{
  "nbformat": 4,
  "nbformat_minor": 0,
  "metadata": {
    "colab": {
      "name": "醫療費用預測-SVR_github.ipynb",
      "provenance": [],
      "collapsed_sections": [
        "SBCsjV8cFG4P",
        "f8zJUJODFOU0",
        "KqBAr3JdHhl1",
        "VBfEvDG0Hkd9",
        "7PCSXCD8Hnj0",
        "NcJyG7laHqZD",
        "5MuDaRjbHvsh",
        "0rsvj_xDH4ah",
        "FMjlPar3H76t",
        "oqc4hRi1FUHU",
        "5Y0qKqobFfrg",
        "eiq3FaDoFpS5",
        "RVkB09iVFjnk",
        "GgUc4RJrFuJk"
      ],
      "include_colab_link": true
    },
    "kernelspec": {
      "name": "python3",
      "display_name": "Python 3"
    },
    "language_info": {
      "name": "python"
    }
  },
  "cells": [
    {
      "cell_type": "markdown",
      "metadata": {
        "id": "view-in-github",
        "colab_type": "text"
      },
      "source": [
        "<a href=\"https://colab.research.google.com/github/chiardy90/Health-Insurance-Cost-Forecast/blob/main/%E9%86%AB%E7%99%82%E8%B2%BB%E7%94%A8%E9%A0%90%E6%B8%AC_SVR_github.ipynb\" target=\"_parent\"><img src=\"https://colab.research.google.com/assets/colab-badge.svg\" alt=\"Open In Colab\"/></a>"
      ]
    },
    {
      "cell_type": "markdown",
      "source": [
        "# Health-Insurance-Cost-Forecast\n",
        "* [Kaggle Link](https://www.kaggle.com/mirichoi0218/insurance)"
      ],
      "metadata": {
        "id": "vE1flz3DEcxS"
      }
    },
    {
      "cell_type": "markdown",
      "source": [
        "## Step 1: Read the medical expense data set"
      ],
      "metadata": {
        "id": "SBCsjV8cFG4P"
      }
    },
    {
      "cell_type": "code",
      "execution_count": 113,
      "metadata": {
        "id": "AdtSHt3HD9L6",
        "colab": {
          "base_uri": "https://localhost:8080/",
          "height": 0
        },
        "outputId": "0577a31e-e286-437e-df90-ff507dda9bd8"
      },
      "outputs": [
        {
          "output_type": "execute_result",
          "data": {
            "text/plain": [
              "   age     sex     bmi  children smoker     region      charges\n",
              "0   19  female  27.900         0    yes  southwest  16884.92400\n",
              "1   18    male  33.770         1     no  southeast   1725.55230\n",
              "2   28    male  33.000         3     no  southeast   4449.46200\n",
              "3   33    male  22.705         0     no  northwest  21984.47061\n",
              "4   32    male  28.880         0     no  northwest   3866.85520"
            ],
            "text/html": [
              "\n",
              "  <div id=\"df-16ac0cc9-6f1c-4ee3-acf4-cc2436a31ceb\">\n",
              "    <div class=\"colab-df-container\">\n",
              "      <div>\n",
              "<style scoped>\n",
              "    .dataframe tbody tr th:only-of-type {\n",
              "        vertical-align: middle;\n",
              "    }\n",
              "\n",
              "    .dataframe tbody tr th {\n",
              "        vertical-align: top;\n",
              "    }\n",
              "\n",
              "    .dataframe thead th {\n",
              "        text-align: right;\n",
              "    }\n",
              "</style>\n",
              "<table border=\"1\" class=\"dataframe\">\n",
              "  <thead>\n",
              "    <tr style=\"text-align: right;\">\n",
              "      <th></th>\n",
              "      <th>age</th>\n",
              "      <th>sex</th>\n",
              "      <th>bmi</th>\n",
              "      <th>children</th>\n",
              "      <th>smoker</th>\n",
              "      <th>region</th>\n",
              "      <th>charges</th>\n",
              "    </tr>\n",
              "  </thead>\n",
              "  <tbody>\n",
              "    <tr>\n",
              "      <th>0</th>\n",
              "      <td>19</td>\n",
              "      <td>female</td>\n",
              "      <td>27.900</td>\n",
              "      <td>0</td>\n",
              "      <td>yes</td>\n",
              "      <td>southwest</td>\n",
              "      <td>16884.92400</td>\n",
              "    </tr>\n",
              "    <tr>\n",
              "      <th>1</th>\n",
              "      <td>18</td>\n",
              "      <td>male</td>\n",
              "      <td>33.770</td>\n",
              "      <td>1</td>\n",
              "      <td>no</td>\n",
              "      <td>southeast</td>\n",
              "      <td>1725.55230</td>\n",
              "    </tr>\n",
              "    <tr>\n",
              "      <th>2</th>\n",
              "      <td>28</td>\n",
              "      <td>male</td>\n",
              "      <td>33.000</td>\n",
              "      <td>3</td>\n",
              "      <td>no</td>\n",
              "      <td>southeast</td>\n",
              "      <td>4449.46200</td>\n",
              "    </tr>\n",
              "    <tr>\n",
              "      <th>3</th>\n",
              "      <td>33</td>\n",
              "      <td>male</td>\n",
              "      <td>22.705</td>\n",
              "      <td>0</td>\n",
              "      <td>no</td>\n",
              "      <td>northwest</td>\n",
              "      <td>21984.47061</td>\n",
              "    </tr>\n",
              "    <tr>\n",
              "      <th>4</th>\n",
              "      <td>32</td>\n",
              "      <td>male</td>\n",
              "      <td>28.880</td>\n",
              "      <td>0</td>\n",
              "      <td>no</td>\n",
              "      <td>northwest</td>\n",
              "      <td>3866.85520</td>\n",
              "    </tr>\n",
              "  </tbody>\n",
              "</table>\n",
              "</div>\n",
              "      <button class=\"colab-df-convert\" onclick=\"convertToInteractive('df-16ac0cc9-6f1c-4ee3-acf4-cc2436a31ceb')\"\n",
              "              title=\"Convert this dataframe to an interactive table.\"\n",
              "              style=\"display:none;\">\n",
              "        \n",
              "  <svg xmlns=\"http://www.w3.org/2000/svg\" height=\"24px\"viewBox=\"0 0 24 24\"\n",
              "       width=\"24px\">\n",
              "    <path d=\"M0 0h24v24H0V0z\" fill=\"none\"/>\n",
              "    <path d=\"M18.56 5.44l.94 2.06.94-2.06 2.06-.94-2.06-.94-.94-2.06-.94 2.06-2.06.94zm-11 1L8.5 8.5l.94-2.06 2.06-.94-2.06-.94L8.5 2.5l-.94 2.06-2.06.94zm10 10l.94 2.06.94-2.06 2.06-.94-2.06-.94-.94-2.06-.94 2.06-2.06.94z\"/><path d=\"M17.41 7.96l-1.37-1.37c-.4-.4-.92-.59-1.43-.59-.52 0-1.04.2-1.43.59L10.3 9.45l-7.72 7.72c-.78.78-.78 2.05 0 2.83L4 21.41c.39.39.9.59 1.41.59.51 0 1.02-.2 1.41-.59l7.78-7.78 2.81-2.81c.8-.78.8-2.07 0-2.86zM5.41 20L4 18.59l7.72-7.72 1.47 1.35L5.41 20z\"/>\n",
              "  </svg>\n",
              "      </button>\n",
              "      \n",
              "  <style>\n",
              "    .colab-df-container {\n",
              "      display:flex;\n",
              "      flex-wrap:wrap;\n",
              "      gap: 12px;\n",
              "    }\n",
              "\n",
              "    .colab-df-convert {\n",
              "      background-color: #E8F0FE;\n",
              "      border: none;\n",
              "      border-radius: 50%;\n",
              "      cursor: pointer;\n",
              "      display: none;\n",
              "      fill: #1967D2;\n",
              "      height: 32px;\n",
              "      padding: 0 0 0 0;\n",
              "      width: 32px;\n",
              "    }\n",
              "\n",
              "    .colab-df-convert:hover {\n",
              "      background-color: #E2EBFA;\n",
              "      box-shadow: 0px 1px 2px rgba(60, 64, 67, 0.3), 0px 1px 3px 1px rgba(60, 64, 67, 0.15);\n",
              "      fill: #174EA6;\n",
              "    }\n",
              "\n",
              "    [theme=dark] .colab-df-convert {\n",
              "      background-color: #3B4455;\n",
              "      fill: #D2E3FC;\n",
              "    }\n",
              "\n",
              "    [theme=dark] .colab-df-convert:hover {\n",
              "      background-color: #434B5C;\n",
              "      box-shadow: 0px 1px 3px 1px rgba(0, 0, 0, 0.15);\n",
              "      filter: drop-shadow(0px 1px 2px rgba(0, 0, 0, 0.3));\n",
              "      fill: #FFFFFF;\n",
              "    }\n",
              "  </style>\n",
              "\n",
              "      <script>\n",
              "        const buttonEl =\n",
              "          document.querySelector('#df-16ac0cc9-6f1c-4ee3-acf4-cc2436a31ceb button.colab-df-convert');\n",
              "        buttonEl.style.display =\n",
              "          google.colab.kernel.accessAllowed ? 'block' : 'none';\n",
              "\n",
              "        async function convertToInteractive(key) {\n",
              "          const element = document.querySelector('#df-16ac0cc9-6f1c-4ee3-acf4-cc2436a31ceb');\n",
              "          const dataTable =\n",
              "            await google.colab.kernel.invokeFunction('convertToInteractive',\n",
              "                                                     [key], {});\n",
              "          if (!dataTable) return;\n",
              "\n",
              "          const docLinkHtml = 'Like what you see? Visit the ' +\n",
              "            '<a target=\"_blank\" href=https://colab.research.google.com/notebooks/data_table.ipynb>data table notebook</a>'\n",
              "            + ' to learn more about interactive tables.';\n",
              "          element.innerHTML = '';\n",
              "          dataTable['output_type'] = 'display_data';\n",
              "          await google.colab.output.renderOutput(dataTable, element);\n",
              "          const docLink = document.createElement('div');\n",
              "          docLink.innerHTML = docLinkHtml;\n",
              "          element.appendChild(docLink);\n",
              "        }\n",
              "      </script>\n",
              "    </div>\n",
              "  </div>\n",
              "  "
            ]
          },
          "metadata": {},
          "execution_count": 113
        }
      ],
      "source": [
        "import pandas as pd\n",
        "\n",
        "Dataset = pd.read_csv(\"insurance.csv\")\n",
        "Dataset.head()"
      ]
    },
    {
      "cell_type": "markdown",
      "source": [
        "## Step 2: Data Visualization and Feature Engineering.\n",
        "*   Handling missing values\n",
        "*   Simple feature engineering after visualization\n",
        "\n",
        "\n"
      ],
      "metadata": {
        "id": "f8zJUJODFOU0"
      }
    },
    {
      "cell_type": "code",
      "source": [
        "# Check field for NaN\n",
        "for index, col in enumerate(Dataset.columns):\n",
        "  print(f\"第{index+1}個欄位 {col} 的缺失值共有 {Dataset[col].isnull().sum()} 筆\")"
      ],
      "metadata": {
        "colab": {
          "base_uri": "https://localhost:8080/"
        },
        "id": "ikJCGgBbE-c9",
        "outputId": "2c118326-a72f-4800-8d1f-09f9a43dc276"
      },
      "execution_count": 114,
      "outputs": [
        {
          "output_type": "stream",
          "name": "stdout",
          "text": [
            "第1個欄位 age 的缺失值共有 0 筆\n",
            "第2個欄位 sex 的缺失值共有 0 筆\n",
            "第3個欄位 bmi 的缺失值共有 0 筆\n",
            "第4個欄位 children 的缺失值共有 0 筆\n",
            "第5個欄位 smoker 的缺失值共有 0 筆\n",
            "第6個欄位 region 的缺失值共有 0 筆\n",
            "第7個欄位 charges 的缺失值共有 0 筆\n"
          ]
        }
      ]
    },
    {
      "cell_type": "markdown",
      "source": [
        "### 第一個欄位(age)"
      ],
      "metadata": {
        "id": "KqBAr3JdHhl1"
      }
    },
    {
      "cell_type": "code",
      "source": [
        "# Dataset[\"age\"]\n",
        "import matplotlib.pyplot as plt\n",
        "plt.figure(figsize=(8,6))\n",
        "plt.hist(Dataset[\"age\"], bins=10)\n",
        "plt.title(\"Histogram of age\", fontsize=20)\n",
        "plt.xlabel(\"age\", fontsize=18)\n",
        "plt.ylabel(\"frequency\", fontsize=18)\n",
        "plt.xticks(fontsize=16)\n",
        "plt.yticks(fontsize=16)\n",
        "plt.show()"
      ],
      "metadata": {
        "colab": {
          "base_uri": "https://localhost:8080/",
          "height": 0
        },
        "id": "gC9vn_CXIDha",
        "outputId": "246c1c8e-7290-4183-ce41-44503727b3f7"
      },
      "execution_count": 115,
      "outputs": [
        {
          "output_type": "display_data",
          "data": {
            "text/plain": [
              "<Figure size 576x432 with 1 Axes>"
            ],
            "image/png": "[encoded data removed]"
          },
          "metadata": {
            "needs_background": "light"
          }
        }
      ]
    },
    {
      "cell_type": "markdown",
      "source": [
        "### 第二個欄位(sex)"
      ],
      "metadata": {
        "id": "VBfEvDG0Hkd9"
      }
    },
    {
      "cell_type": "code",
      "source": [
        "# Dataset[\"sex\"], value_counts()\n",
        "import matplotlib.pyplot as plt\n",
        "print(Dataset[\"sex\"].value_counts())\n",
        "plt.pie(Dataset[\"sex\"].value_counts(), labels=[\"male\", \"female\"])\n",
        "plt.show()"
      ],
      "metadata": {
        "colab": {
          "base_uri": "https://localhost:8080/",
          "height": 0
        },
        "id": "FjrqaoPJI633",
        "outputId": "a008837c-3a48-46af-c963-7782f70f7944"
      },
      "execution_count": 116,
      "outputs": [
        {
          "output_type": "stream",
          "name": "stdout",
          "text": [
            "male      676\n",
            "female    662\n",
            "Name: sex, dtype: int64\n"
          ]
        },
        {
          "output_type": "display_data",
          "data": {
            "text/plain": [
              "<Figure size 432x288 with 1 Axes>"
            ],
            "image/png": "[encoded data removed]"
          },
          "metadata": {}
        }
      ]
    },
    {
      "cell_type": "markdown",
      "source": [
        "### 第三個欄位(bmi)"
      ],
      "metadata": {
        "id": "7PCSXCD8Hnj0"
      }
    },
    {
      "cell_type": "code",
      "source": [
        "# Dataset[\"bmi\"]\n",
        "import matplotlib.pyplot as plt\n",
        "plt.figure(figsize=(8,6))\n",
        "plt.hist(Dataset[\"bmi\"], bins=10)\n",
        "plt.title(\"Histogram of bmi\", fontsize=20)\n",
        "plt.xlabel(\"bmi\", fontsize=18)\n",
        "plt.ylabel(\"frequency\", fontsize=18)\n",
        "plt.xticks(fontsize=16)\n",
        "plt.yticks(fontsize=16)\n",
        "plt.show()"
      ],
      "metadata": {
        "colab": {
          "base_uri": "https://localhost:8080/",
          "height": 0
        },
        "id": "tQQZQXNBcPZw",
        "outputId": "5e228eb8-cd95-49f8-8cf8-de2a0c889d73"
      },
      "execution_count": 117,
      "outputs": [
        {
          "output_type": "display_data",
          "data": {
            "text/plain": [
              "<Figure size 576x432 with 1 Axes>"
            ],
            "image/png": "[encoded data removed]"
          },
          "metadata": {
            "needs_background": "light"
          }
        }
      ]
    },
    {
      "cell_type": "markdown",
      "source": [
        "### 第四個欄位(children)"
      ],
      "metadata": {
        "id": "NcJyG7laHqZD"
      }
    },
    {
      "cell_type": "code",
      "source": [
        "# Dataset[\"children\"]\n",
        "import matplotlib.pyplot as plt\n",
        "plt.figure(figsize=(8,6))\n",
        "plt.plot(Dataset[\"children\"], \"x\")\n",
        "plt.title(\"Children\", fontsize=20)\n",
        "plt.xlabel(\"number of children\", fontsize=18)\n",
        "plt.ylabel(\"instance\", fontsize=18)\n",
        "plt.xticks(fontsize=16)\n",
        "plt.yticks(fontsize=16)\n",
        "plt.show()"
      ],
      "metadata": {
        "colab": {
          "base_uri": "https://localhost:8080/",
          "height": 0
        },
        "id": "YZXoY4kvJNO6",
        "outputId": "a0ea4f7e-649f-4cf7-e1f1-7ca682d8facd"
      },
      "execution_count": 118,
      "outputs": [
        {
          "output_type": "display_data",
          "data": {
            "text/plain": [
              "<Figure size 576x432 with 1 Axes>"
            ],
            "image/png": "[encoded data removed]"
          },
          "metadata": {
            "needs_background": "light"
          }
        }
      ]
    },
    {
      "cell_type": "markdown",
      "source": [
        "### 第五個欄位(smoker)"
      ],
      "metadata": {
        "id": "5MuDaRjbHvsh"
      }
    },
    {
      "cell_type": "code",
      "source": [
        "# Dataset[\"smoker\"], value_counts()\n",
        "import matplotlib.pyplot as plt\n",
        "print(Dataset[\"smoker\"].value_counts())\n",
        "plt.pie(Dataset[\"smoker\"].value_counts(), labels=[\"no\", \"yes\"])\n",
        "plt.show()"
      ],
      "metadata": {
        "colab": {
          "base_uri": "https://localhost:8080/",
          "height": 0
        },
        "id": "dOhIelDTJqEe",
        "outputId": "8d9daba6-35eb-4dd3-f60e-0029ccdefc54"
      },
      "execution_count": 119,
      "outputs": [
        {
          "output_type": "stream",
          "name": "stdout",
          "text": [
            "no     1064\n",
            "yes     274\n",
            "Name: smoker, dtype: int64\n"
          ]
        },
        {
          "output_type": "display_data",
          "data": {
            "text/plain": [
              "<Figure size 432x288 with 1 Axes>"
            ],
            "image/png": "[encoded data removed]"
          },
          "metadata": {}
        }
      ]
    },
    {
      "cell_type": "markdown",
      "source": [
        "### 第六個欄位(region)"
      ],
      "metadata": {
        "id": "0rsvj_xDH4ah"
      }
    },
    {
      "cell_type": "code",
      "source": [
        "# Dataset[\"region\"], value_counts()\n",
        "import matplotlib.pyplot as plt\n",
        "print(Dataset[\"region\"].value_counts())\n",
        "plt.pie(Dataset[\"region\"].value_counts(), labels=[\"SE\",\"SW\",\"NW\",\"NE\"])\n",
        "plt.show()"
      ],
      "metadata": {
        "colab": {
          "base_uri": "https://localhost:8080/",
          "height": 0
        },
        "id": "UN6J5xyJJv-q",
        "outputId": "404f3be2-ea59-42b4-b30d-c89cc2513041"
      },
      "execution_count": 120,
      "outputs": [
        {
          "output_type": "stream",
          "name": "stdout",
          "text": [
            "southeast    364\n",
            "southwest    325\n",
            "northwest    325\n",
            "northeast    324\n",
            "Name: region, dtype: int64\n"
          ]
        },
        {
          "output_type": "display_data",
          "data": {
            "text/plain": [
              "<Figure size 432x288 with 1 Axes>"
            ],
            "image/png": "[encoded data removed]"
          },
          "metadata": {}
        }
      ]
    },
    {
      "cell_type": "markdown",
      "source": [
        "### 第七個欄位(charges)"
      ],
      "metadata": {
        "id": "FMjlPar3H76t"
      }
    },
    {
      "cell_type": "code",
      "source": [
        "# Dataset[\"charges\"]\n",
        "import matplotlib.pyplot as plt\n",
        "plt.figure(figsize=(8,6))\n",
        "plt.hist(Dataset[\"charges\"], bins=10)\n",
        "plt.title(\"Histogram of charges\", fontsize=20)\n",
        "plt.xlabel(\"charges\", fontsize=18)\n",
        "plt.ylabel(\"frequency\", fontsize=18)\n",
        "plt.xticks(fontsize=16)\n",
        "plt.yticks(fontsize=16)\n",
        "plt.show()"
      ],
      "metadata": {
        "colab": {
          "base_uri": "https://localhost:8080/",
          "height": 0
        },
        "id": "rJM0ojyHeqM4",
        "outputId": "063d77f2-59bf-4b41-8b9a-c325a441dce5"
      },
      "execution_count": 121,
      "outputs": [
        {
          "output_type": "display_data",
          "data": {
            "text/plain": [
              "<Figure size 576x432 with 1 Axes>"
            ],
            "image/png": "[encoded data removed]"
          },
          "metadata": {
            "needs_background": "light"
          }
        }
      ]
    },
    {
      "cell_type": "markdown",
      "source": [
        ""
      ],
      "metadata": {
        "id": "mEpAhgL6B_ay"
      }
    },
    {
      "cell_type": "markdown",
      "source": [
        "## Step 3: Identify Numerical and Categorical Features"
      ],
      "metadata": {
        "id": "oqc4hRi1FUHU"
      }
    },
    {
      "cell_type": "code",
      "source": [
        "for col in Dataset.columns:\n",
        "  col_type = Dataset[col].dtypes\n",
        "  print(col_type)"
      ],
      "metadata": {
        "colab": {
          "base_uri": "https://localhost:8080/"
        },
        "id": "e8J85s0if8_w",
        "outputId": "231d7022-94ec-4f37-e7d8-930023f0356a"
      },
      "execution_count": 122,
      "outputs": [
        {
          "output_type": "stream",
          "name": "stdout",
          "text": [
            "int64\n",
            "object\n",
            "float64\n",
            "int64\n",
            "object\n",
            "object\n",
            "float64\n"
          ]
        }
      ]
    },
    {
      "cell_type": "code",
      "source": [
        "numerical_attributes = []\n",
        "categorical_attributes = []\n",
        "\n",
        "for col in Dataset.columns:\n",
        "  col_type = Dataset[col].dtypes\n",
        "  #print(col_type)\n",
        "\n",
        "  if col_type == \"float64\" or col_type == \"int64\":\n",
        "    numerical_attributes.append(col)\n",
        "  elif col_type == \"object\":\n",
        "    categorical_attributes.append(col)\n",
        "    \n",
        "# We will do feautre scaling for X later, so remove Y first.\n",
        "numerical_attributes.remove(\"charges\")\n",
        "  \n",
        "print(f\"數值型的欄位有:{numerical_attributes}\")\n",
        "print(f\"類別型的欄位有{categorical_attributes}\")"
      ],
      "metadata": {
        "colab": {
          "base_uri": "https://localhost:8080/"
        },
        "id": "mM1wKKblf5pC",
        "outputId": "ee946d96-ed70-41b2-be44-333455287f77"
      },
      "execution_count": 123,
      "outputs": [
        {
          "output_type": "stream",
          "name": "stdout",
          "text": [
            "數值型的欄位有:['age', 'bmi', 'children']\n",
            "類別型的欄位有['sex', 'smoker', 'region']\n"
          ]
        }
      ]
    },
    {
      "cell_type": "markdown",
      "source": [
        "## Step 4 : Perform One-Hot Encoding"
      ],
      "metadata": {
        "id": "5Y0qKqobFfrg"
      }
    },
    {
      "cell_type": "code",
      "source": [
        "print(f\"One-Hot Encoding 前有 {Dataset.shape[1]} 個欄位\")\n",
        "One_Hot_Dataset = pd.get_dummies(Dataset)\n",
        "print(f\"One-Hot Encoding 後有 {One_Hot_Dataset.shape[1]} 個欄位\")\n",
        "One_Hot_Dataset.head()"
      ],
      "metadata": {
        "colab": {
          "base_uri": "https://localhost:8080/",
          "height": 0
        },
        "id": "fILPHymQue86",
        "outputId": "be7dfe89-6fe5-4e89-eb85-6bb3ab4a4f0b"
      },
      "execution_count": 124,
      "outputs": [
        {
          "output_type": "stream",
          "name": "stdout",
          "text": [
            "One-Hot Encoding 前有 7 個欄位\n",
            "One-Hot Encoding 後有 12 個欄位\n"
          ]
        },
        {
          "output_type": "execute_result",
          "data": {
            "text/plain": [
              "   age     bmi  children      charges  sex_female  sex_male  smoker_no  \\\n",
              "0   19  27.900         0  16884.92400           1         0          0   \n",
              "1   18  33.770         1   1725.55230           0         1          1   \n",
              "2   28  33.000         3   4449.46200           0         1          1   \n",
              "3   33  22.705         0  21984.47061           0         1          1   \n",
              "4   32  28.880         0   3866.85520           0         1          1   \n",
              "\n",
              "   smoker_yes  region_northeast  region_northwest  region_southeast  \\\n",
              "0           1                 0                 0                 0   \n",
              "1           0                 0                 0                 1   \n",
              "2           0                 0                 0                 1   \n",
              "3           0                 0                 1                 0   \n",
              "4           0                 0                 1                 0   \n",
              "\n",
              "   region_southwest  \n",
              "0                 1  \n",
              "1                 0  \n",
              "2                 0  \n",
              "3                 0  \n",
              "4                 0  "
            ],
            "text/html": [
              "\n",
              "  <div id=\"df-ca87b6a7-eab6-477f-acfc-79ff12cec4ae\">\n",
              "    <div class=\"colab-df-container\">\n",
              "      <div>\n",
              "<style scoped>\n",
              "    .dataframe tbody tr th:only-of-type {\n",
              "        vertical-align: middle;\n",
              "    }\n",
              "\n",
              "    .dataframe tbody tr th {\n",
              "        vertical-align: top;\n",
              "    }\n",
              "\n",
              "    .dataframe thead th {\n",
              "        text-align: right;\n",
              "    }\n",
              "</style>\n",
              "<table border=\"1\" class=\"dataframe\">\n",
              "  <thead>\n",
              "    <tr style=\"text-align: right;\">\n",
              "      <th></th>\n",
              "      <th>age</th>\n",
              "      <th>bmi</th>\n",
              "      <th>children</th>\n",
              "      <th>charges</th>\n",
              "      <th>sex_female</th>\n",
              "      <th>sex_male</th>\n",
              "      <th>smoker_no</th>\n",
              "      <th>smoker_yes</th>\n",
              "      <th>region_northeast</th>\n",
              "      <th>region_northwest</th>\n",
              "      <th>region_southeast</th>\n",
              "      <th>region_southwest</th>\n",
              "    </tr>\n",
              "  </thead>\n",
              "  <tbody>\n",
              "    <tr>\n",
              "      <th>0</th>\n",
              "      <td>19</td>\n",
              "      <td>27.900</td>\n",
              "      <td>0</td>\n",
              "      <td>16884.92400</td>\n",
              "      <td>1</td>\n",
              "      <td>0</td>\n",
              "      <td>0</td>\n",
              "      <td>1</td>\n",
              "      <td>0</td>\n",
              "      <td>0</td>\n",
              "      <td>0</td>\n",
              "      <td>1</td>\n",
              "    </tr>\n",
              "    <tr>\n",
              "      <th>1</th>\n",
              "      <td>18</td>\n",
              "      <td>33.770</td>\n",
              "      <td>1</td>\n",
              "      <td>1725.55230</td>\n",
              "      <td>0</td>\n",
              "      <td>1</td>\n",
              "      <td>1</td>\n",
              "      <td>0</td>\n",
              "      <td>0</td>\n",
              "      <td>0</td>\n",
              "      <td>1</td>\n",
              "      <td>0</td>\n",
              "    </tr>\n",
              "    <tr>\n",
              "      <th>2</th>\n",
              "      <td>28</td>\n",
              "      <td>33.000</td>\n",
              "      <td>3</td>\n",
              "      <td>4449.46200</td>\n",
              "      <td>0</td>\n",
              "      <td>1</td>\n",
              "      <td>1</td>\n",
              "      <td>0</td>\n",
              "      <td>0</td>\n",
              "      <td>0</td>\n",
              "      <td>1</td>\n",
              "      <td>0</td>\n",
              "    </tr>\n",
              "    <tr>\n",
              "      <th>3</th>\n",
              "      <td>33</td>\n",
              "      <td>22.705</td>\n",
              "      <td>0</td>\n",
              "      <td>21984.47061</td>\n",
              "      <td>0</td>\n",
              "      <td>1</td>\n",
              "      <td>1</td>\n",
              "      <td>0</td>\n",
              "      <td>0</td>\n",
              "      <td>1</td>\n",
              "      <td>0</td>\n",
              "      <td>0</td>\n",
              "    </tr>\n",
              "    <tr>\n",
              "      <th>4</th>\n",
              "      <td>32</td>\n",
              "      <td>28.880</td>\n",
              "      <td>0</td>\n",
              "      <td>3866.85520</td>\n",
              "      <td>0</td>\n",
              "      <td>1</td>\n",
              "      <td>1</td>\n",
              "      <td>0</td>\n",
              "      <td>0</td>\n",
              "      <td>1</td>\n",
              "      <td>0</td>\n",
              "      <td>0</td>\n",
              "    </tr>\n",
              "  </tbody>\n",
              "</table>\n",
              "</div>\n",
              "      <button class=\"colab-df-convert\" onclick=\"convertToInteractive('df-ca87b6a7-eab6-477f-acfc-79ff12cec4ae')\"\n",
              "              title=\"Convert this dataframe to an interactive table.\"\n",
              "              style=\"display:none;\">\n",
              "        \n",
              "  <svg xmlns=\"http://www.w3.org/2000/svg\" height=\"24px\"viewBox=\"0 0 24 24\"\n",
              "       width=\"24px\">\n",
              "    <path d=\"M0 0h24v24H0V0z\" fill=\"none\"/>\n",
              "    <path d=\"M18.56 5.44l.94 2.06.94-2.06 2.06-.94-2.06-.94-.94-2.06-.94 2.06-2.06.94zm-11 1L8.5 8.5l.94-2.06 2.06-.94-2.06-.94L8.5 2.5l-.94 2.06-2.06.94zm10 10l.94 2.06.94-2.06 2.06-.94-2.06-.94-.94-2.06-.94 2.06-2.06.94z\"/><path d=\"M17.41 7.96l-1.37-1.37c-.4-.4-.92-.59-1.43-.59-.52 0-1.04.2-1.43.59L10.3 9.45l-7.72 7.72c-.78.78-.78 2.05 0 2.83L4 21.41c.39.39.9.59 1.41.59.51 0 1.02-.2 1.41-.59l7.78-7.78 2.81-2.81c.8-.78.8-2.07 0-2.86zM5.41 20L4 18.59l7.72-7.72 1.47 1.35L5.41 20z\"/>\n",
              "  </svg>\n",
              "      </button>\n",
              "      \n",
              "  <style>\n",
              "    .colab-df-container {\n",
              "      display:flex;\n",
              "      flex-wrap:wrap;\n",
              "      gap: 12px;\n",
              "    }\n",
              "\n",
              "    .colab-df-convert {\n",
              "      background-color: #E8F0FE;\n",
              "      border: none;\n",
              "      border-radius: 50%;\n",
              "      cursor: pointer;\n",
              "      display: none;\n",
              "      fill: #1967D2;\n",
              "      height: 32px;\n",
              "      padding: 0 0 0 0;\n",
              "      width: 32px;\n",
              "    }\n",
              "\n",
              "    .colab-df-convert:hover {\n",
              "      background-color: #E2EBFA;\n",
              "      box-shadow: 0px 1px 2px rgba(60, 64, 67, 0.3), 0px 1px 3px 1px rgba(60, 64, 67, 0.15);\n",
              "      fill: #174EA6;\n",
              "    }\n",
              "\n",
              "    [theme=dark] .colab-df-convert {\n",
              "      background-color: #3B4455;\n",
              "      fill: #D2E3FC;\n",
              "    }\n",
              "\n",
              "    [theme=dark] .colab-df-convert:hover {\n",
              "      background-color: #434B5C;\n",
              "      box-shadow: 0px 1px 3px 1px rgba(0, 0, 0, 0.15);\n",
              "      filter: drop-shadow(0px 1px 2px rgba(0, 0, 0, 0.3));\n",
              "      fill: #FFFFFF;\n",
              "    }\n",
              "  </style>\n",
              "\n",
              "      <script>\n",
              "        const buttonEl =\n",
              "          document.querySelector('#df-ca87b6a7-eab6-477f-acfc-79ff12cec4ae button.colab-df-convert');\n",
              "        buttonEl.style.display =\n",
              "          google.colab.kernel.accessAllowed ? 'block' : 'none';\n",
              "\n",
              "        async function convertToInteractive(key) {\n",
              "          const element = document.querySelector('#df-ca87b6a7-eab6-477f-acfc-79ff12cec4ae');\n",
              "          const dataTable =\n",
              "            await google.colab.kernel.invokeFunction('convertToInteractive',\n",
              "                                                     [key], {});\n",
              "          if (!dataTable) return;\n",
              "\n",
              "          const docLinkHtml = 'Like what you see? Visit the ' +\n",
              "            '<a target=\"_blank\" href=https://colab.research.google.com/notebooks/data_table.ipynb>data table notebook</a>'\n",
              "            + ' to learn more about interactive tables.';\n",
              "          element.innerHTML = '';\n",
              "          dataTable['output_type'] = 'display_data';\n",
              "          await google.colab.output.renderOutput(dataTable, element);\n",
              "          const docLink = document.createElement('div');\n",
              "          docLink.innerHTML = docLinkHtml;\n",
              "          element.appendChild(docLink);\n",
              "        }\n",
              "      </script>\n",
              "    </div>\n",
              "  </div>\n",
              "  "
            ]
          },
          "metadata": {},
          "execution_count": 124
        }
      ]
    },
    {
      "cell_type": "markdown",
      "source": [
        "## Step 5: Perform data segmentation"
      ],
      "metadata": {
        "id": "eiq3FaDoFpS5"
      }
    },
    {
      "cell_type": "code",
      "source": [
        "# 提示：drop([column_name], axis=1), train_test_split(X, Y, test_size)\n",
        "\n",
        "# 引入這部份會用到的套件\n",
        "from sklearn.model_selection import train_test_split\n",
        "\n",
        "# 區分 X 與 Y，記得要使用 One_Hot_Dataset 指定欄位或是 drop\n",
        "Y = One_Hot_Dataset[\"charges\"]\n",
        "X = One_Hot_Dataset.drop([\"charges\"], axis=1)\n",
        "\n",
        "# 進行資料切分\n",
        "X_train, X_test, Y_train, Y_test = train_test_split(X, Y, test_size=0.2)\n",
        "\n",
        "print(f\"訓練資料集(X) {X_train.shape}\")\n",
        "print(f\"訓練資料集(Y) {Y_train.shape}\")\n",
        "print(f\"驗證資料集(X) {X_test.shape}\")\n",
        "print(f\"驗證資料集(Y) {Y_test.shape}\")"
      ],
      "metadata": {
        "colab": {
          "base_uri": "https://localhost:8080/"
        },
        "id": "-BdZAsXVM2gh",
        "outputId": "e399ec83-1e03-4e29-e421-9e614ddbe2fa"
      },
      "execution_count": 125,
      "outputs": [
        {
          "output_type": "stream",
          "name": "stdout",
          "text": [
            "訓練資料集(X) (1070, 11)\n",
            "訓練資料集(Y) (1070,)\n",
            "驗證資料集(X) (268, 11)\n",
            "驗證資料集(Y) (268,)\n"
          ]
        }
      ]
    },
    {
      "cell_type": "markdown",
      "source": [
        "## Step 6: Perform Feature Scaling"
      ],
      "metadata": {
        "id": "RVkB09iVFjnk"
      }
    },
    {
      "cell_type": "code",
      "source": [
        "# 引入這部份會使用到的套件\n",
        "from sklearn.preprocessing import StandardScaler\n",
        "\n",
        "# 取出 訓練與驗證資料集的 數值型資料，使用 numerical_attributes\n",
        "X_train_numerical = X_train[numerical_attributes]\n",
        "X_test_numerical = X_test[numerical_attributes]\n",
        "\n",
        "# 實例化，然後使用 訓練資料集 fit (同時針對 X 與 Y)\n",
        "x_scaler = StandardScaler().fit(X_train_numerical)\n",
        "y_scaler = StandardScaler().fit(Y_train.to_numpy().reshape(-1,1))\n",
        "\n",
        "# 使用 scaler 對 訓練資料集 與 驗證資料集 transform (同時針對 X 與 Y)\n",
        "X_train_trans = x_scaler.transform(X_train_numerical)\n",
        "X_test_trans = x_scaler.transform(X_test_numerical)\n",
        "Y_train_trans = y_scaler.transform(Y_train.to_numpy().reshape(-1,1))\n",
        "Y_test_trans = y_scaler.transform(Y_test.to_numpy().reshape(-1,1))\n",
        "\n",
        "# 對欄位進行覆寫 （針對 X）\n",
        "X_train[numerical_attributes] = X_train_trans\n",
        "X_test[numerical_attributes] = X_test_trans\n",
        "\n",
        "# 後續 fit 使用 X_train 與 Y_train_trans\n",
        "# 後續 predict 使用 X_test 與 Y_test_trans"
      ],
      "metadata": {
        "id": "DxlAKjmBFmh2"
      },
      "execution_count": 126,
      "outputs": []
    },
    {
      "cell_type": "markdown",
      "source": [
        "## Step 7: Fit the support vector regression model"
      ],
      "metadata": {
        "id": "GgUc4RJrFuJk"
      }
    },
    {
      "cell_type": "code",
      "source": [
        "from sklearn.svm import SVR\n",
        "\n",
        "SVR_Algorithm = SVR(kernel=\"rbf\", C=10, gamma=0.1)\n",
        "SVR_Model = SVR_Algorithm.fit(X_train, Y_train_trans.reshape(-1))\n"
      ],
      "metadata": {
        "id": "nJSV_uVgQY3l"
      },
      "execution_count": 127,
      "outputs": []
    },
    {
      "cell_type": "markdown",
      "source": [
        "## Step 8: Predict and evaluate"
      ],
      "metadata": {
        "id": "Cbmz3qCRF0RN"
      }
    },
    {
      "cell_type": "code",
      "source": [
        "# 提示：predict, inverse_transform, reshape(-1,1), zip(), reshape(-1), round(), abs(), len()\n",
        "\n",
        "# 預測\n",
        "SVR_Predictions = SVR_Model.predict(X_test)\n",
        "\n",
        "# 對 SVR_Predictions 與 Y_test 做 Inverse Transform，需要用上 y_scaler\n",
        "SVR_Predictions_inv = y_scaler.inverse_transform(SVR_Predictions.reshape(-1,1))\n",
        "Y_test_inv = y_scaler.inverse_transform(Y_test_trans)\n",
        "\n",
        "# 統計平均誤差，與列印出前50筆預測值與答案\n",
        "Total_Error = 0\n",
        "counter = 0\n",
        "\n",
        "for pred, ans in zip(SVR_Predictions_inv.reshape(-1), Y_test.to_numpy().reshape(-1)):\n",
        "  if counter < 50:\n",
        "    print(f\"第 {counter} 筆預測結果:{round(pred)} vs. 實際答案:{round(ans)}\")\n",
        "  Total_Error = Total_Error + abs(pred-ans) # abs 是絕對值的意思\n",
        "  counter = counter + 1\n",
        "\n",
        "print(f\"\\n平均誤差值:{round(Total_Error/len(SVR_Predictions))}\")"
      ],
      "metadata": {
        "colab": {
          "base_uri": "https://localhost:8080/"
        },
        "id": "xy8pfZARF4c5",
        "outputId": "43ad0339-f35c-40d9-a731-6a451a68c687"
      },
      "execution_count": 128,
      "outputs": [
        {
          "output_type": "stream",
          "name": "stdout",
          "text": [
            "第 0 筆預測結果:8560 vs. 實際答案:7986\n",
            "第 1 筆預測結果:24080 vs. 實際答案:24107\n",
            "第 2 筆預測結果:4548 vs. 實際答案:3491\n",
            "第 3 筆預測結果:7338 vs. 實際答案:5980\n",
            "第 4 筆預測結果:5980 vs. 實際答案:4618\n",
            "第 5 筆預測結果:4368 vs. 實際答案:3310\n",
            "第 6 筆預測結果:11332 vs. 實際答案:10226\n",
            "第 7 筆預測結果:10530 vs. 實際答案:9378\n",
            "第 8 筆預測結果:3227 vs. 實際答案:2154\n",
            "第 9 筆預測結果:42525 vs. 實際答案:38793\n",
            "第 10 筆預測結果:10628 vs. 實際答案:9716\n",
            "第 11 筆預測結果:35498 vs. 實際答案:38415\n",
            "第 12 筆預測結果:8138 vs. 實際答案:7051\n",
            "第 13 筆預測結果:2995 vs. 實際答案:1726\n",
            "第 14 筆預測結果:6977 vs. 實際答案:6199\n",
            "第 15 筆預測結果:4856 vs. 實際答案:3990\n",
            "第 16 筆預測結果:8183 vs. 實際答案:8060\n",
            "第 17 筆預測結果:8868 vs. 實際答案:7651\n",
            "第 18 筆預測結果:3121 vs. 實際答案:1729\n",
            "第 19 筆預測結果:5184 vs. 實際答案:19442\n",
            "第 20 筆預測結果:3106 vs. 實際答案:2104\n",
            "第 21 筆預測結果:11426 vs. 實際答案:10198\n",
            "第 22 筆預測結果:5666 vs. 實際答案:4838\n",
            "第 23 筆預測結果:2767 vs. 實際答案:1640\n",
            "第 24 筆預測結果:8217 vs. 實際答案:7419\n",
            "第 25 筆預測結果:5534 vs. 實際答案:4686\n",
            "第 26 筆預測結果:3581 vs. 實際答案:2497\n",
            "第 27 筆預測結果:6115 vs. 實際答案:5312\n",
            "第 28 筆預測結果:3774 vs. 實際答案:2643\n",
            "第 29 筆預測結果:9740 vs. 實際答案:8570\n",
            "第 30 筆預測結果:11073 vs. 實際答案:9866\n",
            "第 31 筆預測結果:10976 vs. 實際答案:6666\n",
            "第 32 筆預測結果:5596 vs. 實際答案:4828\n",
            "第 33 筆預測結果:6813 vs. 實際答案:5709\n",
            "第 34 筆預測結果:10334 vs. 實際答案:9305\n",
            "第 35 筆預測結果:39786 vs. 實際答案:43814\n",
            "第 36 筆預測結果:42903 vs. 實際答案:41949\n",
            "第 37 筆預測結果:37793 vs. 實際答案:39983\n",
            "第 38 筆預測結果:28278 vs. 實際答案:26927\n",
            "第 39 筆預測結果:12213 vs. 實際答案:11083\n",
            "第 40 筆預測結果:12731 vs. 實際答案:11437\n",
            "第 41 筆預測結果:4727 vs. 實際答案:4357\n",
            "第 42 筆預測結果:9267 vs. 實際答案:32109\n",
            "第 43 筆預測結果:9627 vs. 實際答案:28469\n",
            "第 44 筆預測結果:5989 vs. 實際答案:4889\n",
            "第 45 筆預測結果:13735 vs. 實際答案:12646\n",
            "第 46 筆預測結果:14160 vs. 實際答案:12630\n",
            "第 47 筆預測結果:5018 vs. 實際答案:3973\n",
            "第 48 筆預測結果:13389 vs. 實際答案:12266\n",
            "第 49 筆預測結果:31332 vs. 實際答案:22144\n",
            "\n",
            "平均誤差值:2456\n"
          ]
        }
      ]
    },
    {
      "cell_type": "markdown",
      "source": [
        "## Step 9: Experiment with different parameter combinations"
      ],
      "metadata": {
        "id": "kxnOHUF_S19A"
      }
    },
    {
      "cell_type": "code",
      "source": [
        "def test_SVR_parameter(kernel, C, gamma):\n",
        "  # 實例化演算法\n",
        "  SVR_Algorithm = SVR(kernel=kernel, C=C, gamma=gamma)\n",
        "\n",
        "  # 訓練模型\n",
        "  SVR_Model = SVR_Algorithm.fit(X_train, Y_train_trans.reshape(-1))\n",
        "\n",
        "  # 評估模型\n",
        "  # 使用訓練的回歸模型進行預測\n",
        "  SVR_Predictions = SVR_Model.predict(X_test)\n",
        "\n",
        "  # 做 inverse transform\n",
        "  SVR_Predictions_inv = y_scaler.inverse_transform(SVR_Predictions.reshape(-1,1))\n",
        "  Y_test_inv = y_scaler.inverse_transform(Y_test_trans)\n",
        "\n",
        "  # 統計誤差\n",
        "  Total_Error = 0\n",
        "  for pred, ans in zip(SVR_Predictions_inv.reshape(-1), Y_test_inv.reshape(-1)):\n",
        "    Total_Error = Total_Error + (abs(pred-ans))\n",
        "      \n",
        "  print(f\"\\n[C={C}, Gamma={gamma}]平均誤差值是 {round(Total_Error/len(SVR_Predictions))}\")"
      ],
      "metadata": {
        "id": "TYwnVL1US51t"
      },
      "execution_count": 129,
      "outputs": []
    },
    {
      "cell_type": "code",
      "source": [
        "kernel = \"rbf\"\n",
        "C_list = [0.01, 0.1, 1, 10, 100]\n",
        "Gamma_list = [0.01, 0.1, 1, 10, 100]\n",
        "for C in C_list:\n",
        "  for gamma in Gamma_list:\n",
        "    test_SVR_parameter(kernel=kernel, C=C, gamma=gamma)"
      ],
      "metadata": {
        "colab": {
          "base_uri": "https://localhost:8080/"
        },
        "id": "-nU5F84B5S1h",
        "outputId": "c380dff1-36bc-4f7b-b0f7-d579bfea0258"
      },
      "execution_count": 130,
      "outputs": [
        {
          "output_type": "stream",
          "name": "stdout",
          "text": [
            "\n",
            "[C=0.01, Gamma=0.01]平均誤差值是 8198\n",
            "\n",
            "[C=0.01, Gamma=0.1]平均誤差值是 6673\n",
            "\n",
            "[C=0.01, Gamma=1]平均誤差值是 8220\n",
            "\n",
            "[C=0.01, Gamma=10]平均誤差值是 8847\n",
            "\n",
            "[C=0.01, Gamma=100]平均誤差值是 8898\n",
            "\n",
            "[C=0.1, Gamma=0.01]平均誤差值是 5451\n",
            "\n",
            "[C=0.1, Gamma=0.1]平均誤差值是 3783\n",
            "\n",
            "[C=0.1, Gamma=1]平均誤差值是 5983\n",
            "\n",
            "[C=0.1, Gamma=10]平均誤差值是 8437\n",
            "\n",
            "[C=0.1, Gamma=100]平均誤差值是 8858\n",
            "\n",
            "[C=1, Gamma=0.01]平均誤差值是 3864\n",
            "\n",
            "[C=1, Gamma=0.1]平均誤差值是 2490\n",
            "\n",
            "[C=1, Gamma=1]平均誤差值是 3483\n",
            "\n",
            "[C=1, Gamma=10]平均誤差值是 7462\n",
            "\n",
            "[C=1, Gamma=100]平均誤差值是 8913\n",
            "\n",
            "[C=10, Gamma=0.01]平均誤差值是 2521\n",
            "\n",
            "[C=10, Gamma=0.1]平均誤差值是 2456\n",
            "\n",
            "[C=10, Gamma=1]平均誤差值是 3952\n",
            "\n",
            "[C=10, Gamma=10]平均誤差值是 7437\n",
            "\n",
            "[C=10, Gamma=100]平均誤差值是 9434\n",
            "\n",
            "[C=100, Gamma=0.01]平均誤差值是 2503\n",
            "\n",
            "[C=100, Gamma=0.1]平均誤差值是 2558\n",
            "\n",
            "[C=100, Gamma=1]平均誤差值是 5187\n",
            "\n",
            "[C=100, Gamma=10]平均誤差值是 7457\n",
            "\n",
            "[C=100, Gamma=100]平均誤差值是 9434\n"
          ]
        }
      ]
    }
  ]
}